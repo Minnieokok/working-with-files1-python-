{
 "cells": [
  {
   "cell_type": "markdown",
   "id": "dfcb045a-f89f-4d80-81c5-e7fcdabb98e3",
   "metadata": {},
   "source": [
    "(instead of using print we have use log because print statement doesnt show error)"
   ]
  },
  {
   "cell_type": "code",
   "execution_count": null,
   "id": "636df9eb-602d-45e2-9ef8-3c0284db7fff",
   "metadata": {},
   "outputs": [],
   "source": [
    "import logging\n",
    "\n",
    "                    "
   ]
  },
  {
   "cell_type": "code",
   "execution_count": 9,
   "id": "6703af3d-bac1-4a71-ab1e-52d31863a6ac",
   "metadata": {},
   "outputs": [],
   "source": [
    "logging.basicConfig(filename=\"text44.log\",level=\"logging.INFO\")"
   ]
  },
  {
   "cell_type": "code",
   "execution_count": 14,
   "id": "028be3bd-cb47-4e66-9cfe-8a140a4649f9",
   "metadata": {},
   "outputs": [],
   "source": [
    "logging.info(\"this is my line of execution\")"
   ]
  },
  {
   "cell_type": "code",
   "execution_count": 15,
   "id": "bafce10c-a7ed-4c3c-a047-7fbe07ba9fc8",
   "metadata": {},
   "outputs": [],
   "source": [
    "logging.critical(\"this is my critical\")"
   ]
  },
  {
   "cell_type": "code",
   "execution_count": 16,
   "id": "babbf1bb-1e0f-4e04-b0b6-cb357aab4369",
   "metadata": {},
   "outputs": [],
   "source": [
    "logging.shutdown()"
   ]
  },
  {
   "cell_type": "markdown",
   "id": "9f748402-046b-4c0d-af03-bb91d00b38f0",
   "metadata": {},
   "source": [
    "1. NOSET\n",
    "2. DEBUG\n",
    "3. INFO\n",
    "4. WARNING\n",
    "5. ERROR\n",
    "6. CRITICAL"
   ]
  },
  {
   "cell_type": "code",
   "execution_count": 3,
   "id": "d5ce016f-13b9-427d-974b-661aed1cdbb5",
   "metadata": {},
   "outputs": [],
   "source": [
    "import logging"
   ]
  },
  {
   "cell_type": "code",
   "execution_count": 10,
   "id": "4935daf2-bb45-4d39-ad38-43e2b9c74ae1",
   "metadata": {},
   "outputs": [],
   "source": [
    "logging.basicConfig(filename = \"test5.log\" , level = logging.DEBUG ,format = '%(asctime)s %(message)s'  )"
   ]
  },
  {
   "cell_type": "code",
   "execution_count": null,
   "id": "a1f507dc-d104-4561-95c5-b7c02debae49",
   "metadata": {},
   "outputs": [],
   "source": [
    "logging.info(\"this is my infolog\")"
   ]
  },
  {
   "cell_type": "code",
   "execution_count": null,
   "id": "04b06406-907a-48f3-b3b3-88872e4293fd",
   "metadata": {},
   "outputs": [],
   "source": [
    "logging.debug(\"this is debug log\")"
   ]
  },
  {
   "cell_type": "code",
   "execution_count": null,
   "id": "571a8f72-718d-4c19-b99f-f9603273174a",
   "metadata": {},
   "outputs": [],
   "source": []
  }
 ],
 "metadata": {
  "kernelspec": {
   "display_name": "Python 3 (ipykernel)",
   "language": "python",
   "name": "python3"
  },
  "language_info": {
   "codemirror_mode": {
    "name": "ipython",
    "version": 3
   },
   "file_extension": ".py",
   "mimetype": "text/x-python",
   "name": "python",
   "nbconvert_exporter": "python",
   "pygments_lexer": "ipython3",
   "version": "3.10.8"
  }
 },
 "nbformat": 4,
 "nbformat_minor": 5
}
