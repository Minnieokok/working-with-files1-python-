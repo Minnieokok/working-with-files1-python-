{
 "cells": [
  {
   "cell_type": "markdown",
   "id": "581875ba-94bd-45c5-91d4-200f531104e0",
   "metadata": {},
   "source": [
    "buffer read and writ(big files)"
   ]
  },
  {
   "cell_type": "code",
   "execution_count": 1,
   "id": "7322b418-a8e2-4f60-a195-c74e22f5dd16",
   "metadata": {},
   "outputs": [],
   "source": [
    "import io\n"
   ]
  },
  {
   "cell_type": "code",
   "execution_count": 4,
   "id": "e9ac5a0a-86fb-48cb-86c5-47b917dead7e",
   "metadata": {},
   "outputs": [],
   "source": [
    "with open(\"text.txt\",\"wb\")as f:\n",
    "    file=io.BufferedWriter(f)\n",
    "    file.write(b\"this is my buffer write \\n\")\n",
    "    file.write(b\"this is seconf=d line\")\n",
    "    file.flush()\n",
    "    "
   ]
  },
  {
   "cell_type": "code",
   "execution_count": 6,
   "id": "de2fc238-7719-4d8e-8dc3-9e1a14fe9bcb",
   "metadata": {},
   "outputs": [
    {
     "name": "stdout",
     "output_type": "stream",
     "text": [
      "b'this is my buffer writethis is seconf=d line'\n"
     ]
    }
   ],
   "source": [
    "with open(\"text.txt\",\"rb\")as f:\n",
    "          file=io.BufferedReader(f)\n",
    "          data=file.read()\n",
    "          print(data)"
   ]
  },
  {
   "cell_type": "code",
   "execution_count": null,
   "id": "36f3f9f7-bb6a-46a2-a01d-909b8e87b2c0",
   "metadata": {},
   "outputs": [],
   "source": []
  }
 ],
 "metadata": {
  "kernelspec": {
   "display_name": "Python 3 (ipykernel)",
   "language": "python",
   "name": "python3"
  },
  "language_info": {
   "codemirror_mode": {
    "name": "ipython",
    "version": 3
   },
   "file_extension": ".py",
   "mimetype": "text/x-python",
   "name": "python",
   "nbconvert_exporter": "python",
   "pygments_lexer": "ipython3",
   "version": "3.10.8"
  }
 },
 "nbformat": 4,
 "nbformat_minor": 5
}
