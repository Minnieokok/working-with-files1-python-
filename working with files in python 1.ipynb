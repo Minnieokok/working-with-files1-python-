{
 "cells": [
  {
   "cell_type": "markdown",
   "id": "0cb0b21b-0daf-47a5-bd6a-af9a4a870f35",
   "metadata": {},
   "source": [
    "1.opening the file"
   ]
  },
  {
   "cell_type": "code",
   "execution_count": 1,
   "id": "c090334e-bed8-45e9-8e82-adbcafc22dde",
   "metadata": {},
   "outputs": [],
   "source": [
    "f=open(\"text.txt\",\"w\")"
   ]
  },
  {
   "cell_type": "code",
   "execution_count": 2,
   "id": "f6c0bf4f-92e0-46c1-a606-976ffe95f5b2",
   "metadata": {},
   "outputs": [
    {
     "data": {
      "text/plain": [
       "'/home/jovyan/work'"
      ]
     },
     "execution_count": 2,
     "metadata": {},
     "output_type": "execute_result"
    }
   ],
   "source": [
    "pwd"
   ]
  },
  {
   "cell_type": "markdown",
   "id": "2d002eb7-2f4b-4c15-b586-155c15cd96d7",
   "metadata": {},
   "source": [
    "ls"
   ]
  },
  {
   "cell_type": "markdown",
   "id": "e9c16a4f-3ead-400b-a6b9-002b588c50e3",
   "metadata": {},
   "source": [
    "2.writing in file"
   ]
  },
  {
   "cell_type": "code",
   "execution_count": 4,
   "id": "a0efd91c-64f4-43b3-ab65-935319e465fd",
   "metadata": {},
   "outputs": [
    {
     "data": {
      "text/plain": [
       "32"
      ]
     },
     "execution_count": 4,
     "metadata": {},
     "output_type": "execute_result"
    }
   ],
   "source": [
    "f.write(\"this is my first write operation\")"
   ]
  },
  {
   "cell_type": "code",
   "execution_count": 5,
   "id": "ea659484-3464-41db-aa29-baaaed9131af",
   "metadata": {},
   "outputs": [],
   "source": [
    "f.close()"
   ]
  },
  {
   "cell_type": "markdown",
   "id": "11c800a4-97b7-41c1-9169-411477b407b7",
   "metadata": {},
   "source": [
    "3.reading a file"
   ]
  },
  {
   "cell_type": "code",
   "execution_count": 6,
   "id": "eca11f62-f4cf-40d8-8b80-e87b39a352f1",
   "metadata": {},
   "outputs": [],
   "source": [
    "data=open(\"text.txt\",\"r\")"
   ]
  },
  {
   "cell_type": "code",
   "execution_count": 7,
   "id": "2726cd1e-e306-48c0-b3df-8f5574b35e1c",
   "metadata": {},
   "outputs": [
    {
     "data": {
      "text/plain": [
       "'this is my first write operation'"
      ]
     },
     "execution_count": 7,
     "metadata": {},
     "output_type": "execute_result"
    }
   ],
   "source": [
    "data.read()"
   ]
  },
  {
   "cell_type": "markdown",
   "id": "20b40e0f-30b3-480c-9abd-eec9a4a3080f",
   "metadata": {},
   "source": [
    "4.to see file size"
   ]
  },
  {
   "cell_type": "code",
   "execution_count": 8,
   "id": "1fd06d0b-fb61-4c38-87a7-fe8988249b80",
   "metadata": {},
   "outputs": [
    {
     "data": {
      "text/plain": [
       "32"
      ]
     },
     "execution_count": 8,
     "metadata": {},
     "output_type": "execute_result"
    }
   ],
   "source": [
    "import os\n",
    "os.path.getsize(\"text.txt\")"
   ]
  },
  {
   "cell_type": "markdown",
   "id": "dc9d01a4-d49b-4eed-ba9b-3c0d85ddfc20",
   "metadata": {},
   "source": [
    "5.to create a copy of file"
   ]
  },
  {
   "cell_type": "code",
   "execution_count": 9,
   "id": "63f8318d-7908-466c-9350-ce588daddcb8",
   "metadata": {},
   "outputs": [
    {
     "data": {
      "text/plain": [
       "'newtext.txt'"
      ]
     },
     "execution_count": 9,
     "metadata": {},
     "output_type": "execute_result"
    }
   ],
   "source": [
    "import shutil\n",
    "shutil.copy(\"text.txt\",\"newtext.txt\")"
   ]
  },
  {
   "cell_type": "markdown",
   "id": "e74b804b-edc5-44f0-ab0a-f32dbd1f43e9",
   "metadata": {},
   "source": [
    "6.to delete the file "
   ]
  },
  {
   "cell_type": "code",
   "execution_count": 11,
   "id": "16a72561-581e-4117-b445-8434c61dc6a5",
   "metadata": {},
   "outputs": [],
   "source": [
    "os.remove(\"text.txt\")"
   ]
  },
  {
   "cell_type": "code",
   "execution_count": null,
   "id": "bfdb5cce-6f7e-41c1-be78-efc680f29941",
   "metadata": {},
   "outputs": [],
   "source": []
  }
 ],
 "metadata": {
  "kernelspec": {
   "display_name": "Python 3 (ipykernel)",
   "language": "python",
   "name": "python3"
  },
  "language_info": {
   "codemirror_mode": {
    "name": "ipython",
    "version": 3
   },
   "file_extension": ".py",
   "mimetype": "text/x-python",
   "name": "python",
   "nbconvert_exporter": "python",
   "pygments_lexer": "ipython3",
   "version": "3.10.8"
  }
 },
 "nbformat": 4,
 "nbformat_minor": 5
}
