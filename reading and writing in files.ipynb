{
 "cells": [
  {
   "cell_type": "markdown",
   "id": "30e5d446-7407-4930-ae87-65254f905b39",
   "metadata": {},
   "source": [
    "a)reading and writing json file"
   ]
  },
  {
   "cell_type": "code",
   "execution_count": 2,
   "id": "61b89296-539f-4cac-ad4e-28cc4fa1b441",
   "metadata": {},
   "outputs": [],
   "source": [
    "data={\n",
    "    \"name\":\"sudh\",\"mail_id\":\"sudh@gmail.com\"\n",
    "}"
   ]
  },
  {
   "cell_type": "code",
   "execution_count": 3,
   "id": "e07fb5fc-be3d-48d5-8cf9-69398432ed80",
   "metadata": {},
   "outputs": [],
   "source": [
    "import json"
   ]
  },
  {
   "cell_type": "code",
   "execution_count": 4,
   "id": "c6e09456-9028-4876-8e20-433648ee47c4",
   "metadata": {},
   "outputs": [],
   "source": [
    "with open (\"test.json\",\"w\")as f:\n",
    "    json.dump(data,f)"
   ]
  },
  {
   "cell_type": "code",
   "execution_count": 7,
   "id": "c21c4758-7470-4853-b6ae-ffff617d0e7c",
   "metadata": {},
   "outputs": [],
   "source": [
    "with open(\"test.json\",\"r\")as f:\n",
    "    data1=json.load(f)"
   ]
  },
  {
   "cell_type": "code",
   "execution_count": 8,
   "id": "701fed7f-56fe-43c5-8aa1-5dd1b227c5c4",
   "metadata": {},
   "outputs": [
    {
     "data": {
      "text/plain": [
       "{'name': 'sudh', 'mail_id': 'sudh@gmail.com'}"
      ]
     },
     "execution_count": 8,
     "metadata": {},
     "output_type": "execute_result"
    }
   ],
   "source": [
    "data1"
   ]
  },
  {
   "cell_type": "code",
   "execution_count": 9,
   "id": "f1377d05-4e72-4d25-a2dd-263b8a249e89",
   "metadata": {},
   "outputs": [
    {
     "data": {
      "text/plain": [
       "'sudh'"
      ]
     },
     "execution_count": 9,
     "metadata": {},
     "output_type": "execute_result"
    }
   ],
   "source": [
    "data1[\"name\"]"
   ]
  },
  {
   "cell_type": "markdown",
   "id": "5eab7991-d785-4e41-a1cf-91c59a58c41d",
   "metadata": {},
   "source": [
    "b)reading and writing csv file"
   ]
  },
  {
   "cell_type": "code",
   "execution_count": 10,
   "id": "5500d43b-4146-4e7a-b5ca-87bfc8a78c25",
   "metadata": {},
   "outputs": [],
   "source": [
    "import csv"
   ]
  },
  {
   "cell_type": "code",
   "execution_count": 11,
   "id": "afedaafa-dcb0-430d-918f-385f766bbb7d",
   "metadata": {},
   "outputs": [],
   "source": [
    "with open(\"test1.csv\",\"w\")as f:\n",
    "    w=csv.writer(f)\n",
    "    for i in data:\n",
    "        w.writerow(i)\n",
    "        "
   ]
  },
  {
   "cell_type": "code",
   "execution_count": 12,
   "id": "a729f490-968b-4173-af1d-9778f219105c",
   "metadata": {},
   "outputs": [
    {
     "name": "stdout",
     "output_type": "stream",
     "text": [
      "['n', 'a', 'm', 'e']\n",
      "['m', 'a', 'i', 'l', '_', 'i', 'd']\n"
     ]
    }
   ],
   "source": [
    "with open(\"test1.csv\",\"r\") as f:\n",
    "    read=csv.reader(f)\n",
    "    for i in read:\n",
    "        print(i)"
   ]
  },
  {
   "cell_type": "markdown",
   "id": "cff20e9d-0bdd-461e-98a6-24022d9491f3",
   "metadata": {},
   "source": [
    "c)reading and writing binary  file"
   ]
  },
  {
   "cell_type": "code",
   "execution_count": 14,
   "id": "5d753c83-5726-4b04-9ad7-2efb6d566083",
   "metadata": {},
   "outputs": [],
   "source": [
    "with open (\"test2.bin\",\"w\")as f:\n",
    "    f.write(\"\\x01\\x02\\x03\")"
   ]
  },
  {
   "cell_type": "code",
   "execution_count": 15,
   "id": "eb51552a-7857-4e41-b921-1c9ade21c996",
   "metadata": {},
   "outputs": [
    {
     "name": "stdout",
     "output_type": "stream",
     "text": [
      "b'\\x01\\x02\\x03'\n"
     ]
    }
   ],
   "source": [
    "with open(\"test2.bin\",\"rb\")as f:\n",
    "    print(f.read())"
   ]
  },
  {
   "cell_type": "code",
   "execution_count": null,
   "id": "2a0fee6e-274e-4539-b2c9-e0ae4d5d5e73",
   "metadata": {},
   "outputs": [],
   "source": []
  }
 ],
 "metadata": {
  "kernelspec": {
   "display_name": "Python 3 (ipykernel)",
   "language": "python",
   "name": "python3"
  },
  "language_info": {
   "codemirror_mode": {
    "name": "ipython",
    "version": 3
   },
   "file_extension": ".py",
   "mimetype": "text/x-python",
   "name": "python",
   "nbconvert_exporter": "python",
   "pygments_lexer": "ipython3",
   "version": "3.10.8"
  }
 },
 "nbformat": 4,
 "nbformat_minor": 5
}
